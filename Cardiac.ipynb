{
 "cells": [
  {
   "cell_type": "code",
   "execution_count": 1,
   "id": "ab152376-7f4a-46f5-8898-e1143151ca66",
   "metadata": {},
   "outputs": [],
   "source": [
    "import pandas as pd"
   ]
  },
  {
   "cell_type": "code",
   "execution_count": 2,
   "id": "dbf04e1b-2c09-4b86-89cf-73827a4c665d",
   "metadata": {},
   "outputs": [],
   "source": [
    "df = pd.read_excel('Cardiac_Outcomes.xlsx')"
   ]
  },
  {
   "cell_type": "code",
   "execution_count": null,
   "id": "10bb36e2-0eec-4c21-b7fa-444e0eb18937",
   "metadata": {},
   "outputs": [],
   "source": []
  }
 ],
 "metadata": {
  "kernelspec": {
   "display_name": "Python 3 (ipykernel)",
   "language": "python",
   "name": "python3"
  },
  "language_info": {
   "codemirror_mode": {
    "name": "ipython",
    "version": 3
   },
   "file_extension": ".py",
   "mimetype": "text/x-python",
   "name": "python",
   "nbconvert_exporter": "python",
   "pygments_lexer": "ipython3",
   "version": "3.11.7"
  }
 },
 "nbformat": 4,
 "nbformat_minor": 5
}
