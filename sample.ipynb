{
 "cells": [
  {
   "cell_type": "code",
   "execution_count": null,
   "id": "4f2ecafa",
   "metadata": {},
   "outputs": [],
   "source": [
    "# This is a test file"
   ]
  },
  {
   "cell_type": "markdown",
   "id": "3f84b3bb",
   "metadata": {},
   "source": [
    "### Q4.What percentage of patients had Biventricular heart failure?"
   ]
  },
  {
   "cell_type": "code",
   "execution_count": 5,
   "id": "a1e1fcb4",
   "metadata": {},
   "outputs": [
    {
     "name": "stdout",
     "output_type": "stream",
     "text": [
      "Percentage of patients having Biventricular heart failure: 73.70517928286853\n"
     ]
    }
   ],
   "source": [
    "import pandas as pd\n",
    "import numpy as np\n",
    "\n",
    "CardiacComplications=pd.read_excel(\"Cardiac_Outcomes.xlsx\",sheet_name=1)\n",
    "biventricular= CardiacComplications[CardiacComplications[\"type_of_heart_failure\"] == \"Both\"]\n",
    "both_count = len(biventricular)\n",
    "both_count\n",
    "total_count = len(CardiacComplications)\n",
    "total_count\n",
    "percentage = (both_count/total_count)*100\n",
    "\n",
    "print('Percentage of patients having Biventricular heart failure:',percentage)\n"
   ]
  },
  {
   "cell_type": "code",
   "execution_count": null,
   "id": "205842a8",
   "metadata": {},
   "outputs": [],
   "source": []
  }
 ],
 "metadata": {
  "kernelspec": {
   "display_name": "Python 3 (ipykernel)",
   "language": "python",
   "name": "python3"
  },
  "language_info": {
   "codemirror_mode": {
    "name": "ipython",
    "version": 3
   },
   "file_extension": ".py",
   "mimetype": "text/x-python",
   "name": "python",
   "nbconvert_exporter": "python",
   "pygments_lexer": "ipython3",
   "version": "3.9.7"
  }
 },
 "nbformat": 4,
 "nbformat_minor": 5
}
