{
 "cells": [
  {
   "cell_type": "markdown",
   "id": "a63910fa",
   "metadata": {},
   "source": [
    "### 67.How many Unique patients were precribed each type of medication?"
   ]
  },
  {
   "cell_type": "code",
   "execution_count": 1,
   "id": "5b90a043",
   "metadata": {},
   "outputs": [
    {
     "ename": "NameError",
     "evalue": "name 'df6' is not defined",
     "output_type": "error",
     "traceback": [
      "\u001b[0;31m---------------------------------------------------------------------------\u001b[0m",
      "\u001b[0;31mNameError\u001b[0m                                 Traceback (most recent call last)",
      "Cell \u001b[0;32mIn[1], line 1\u001b[0m\n\u001b[0;32m----> 1\u001b[0m unique_patient_count\u001b[38;5;241m=\u001b[39mdf6[\u001b[38;5;124m'\u001b[39m\u001b[38;5;124minpatient_number\u001b[39m\u001b[38;5;124m'\u001b[39m]\u001b[38;5;241m.\u001b[39munique()\n\u001b[1;32m      2\u001b[0m unique_patient_count\n\u001b[1;32m      3\u001b[0m patient_count_for_each_medication_type\u001b[38;5;241m=\u001b[39m\u001b[38;5;28mlen\u001b[39m(unique_patient_count)\n",
      "\u001b[0;31mNameError\u001b[0m: name 'df6' is not defined"
     ]
    }
   ],
   "source": [
    "unique_patient_count=df6['inpatient_number'].unique()\n",
    "unique_patient_count\n",
    "patient_count_for_each_medication_type=len(unique_patient_count)\n",
    "print('Unique patients who were precribed each type of medication:',patient_count_for_each_medication_type)"
   ]
  },
  {
   "cell_type": "code",
   "execution_count": null,
   "id": "e5ffa424",
   "metadata": {},
   "outputs": [],
   "source": []
  }
 ],
 "metadata": {
  "kernelspec": {
   "display_name": "Python 3 (ipykernel)",
   "language": "python",
   "name": "python3"
  },
  "language_info": {
   "codemirror_mode": {
    "name": "ipython",
    "version": 3
   },
   "file_extension": ".py",
   "mimetype": "text/x-python",
   "name": "python",
   "nbconvert_exporter": "python",
   "pygments_lexer": "ipython3",
   "version": "3.11.7"
  }
 },
 "nbformat": 4,
 "nbformat_minor": 5
}
