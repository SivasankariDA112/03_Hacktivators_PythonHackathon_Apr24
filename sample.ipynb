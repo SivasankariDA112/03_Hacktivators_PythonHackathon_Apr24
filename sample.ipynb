{
 "cells": [
  {
   "cell_type": "code",
   "execution_count": 1,
   "id": "f209ae0f-d781-4e2d-9a63-fd385f1bb0b1",
   "metadata": {},
   "outputs": [
    {
     "name": "stdout",
     "output_type": "stream",
     "text": [
      "Requirement already satisfied: matplotlib in c:\\users\\surendra\\anaconda3\\lib\\site-packages (3.8.4)\n",
      "Requirement already satisfied: contourpy>=1.0.1 in c:\\users\\surendra\\anaconda3\\lib\\site-packages (from matplotlib) (1.2.0)\n",
      "Requirement already satisfied: cycler>=0.10 in c:\\users\\surendra\\anaconda3\\lib\\site-packages (from matplotlib) (0.11.0)\n",
      "Requirement already satisfied: fonttools>=4.22.0 in c:\\users\\surendra\\anaconda3\\lib\\site-packages (from matplotlib) (4.25.0)\n",
      "Requirement already satisfied: kiwisolver>=1.3.1 in c:\\users\\surendra\\anaconda3\\lib\\site-packages (from matplotlib) (1.4.4)\n",
      "Requirement already satisfied: numpy>=1.21 in c:\\users\\surendra\\anaconda3\\lib\\site-packages (from matplotlib) (1.26.4)\n",
      "Requirement already satisfied: packaging>=20.0 in c:\\users\\surendra\\anaconda3\\lib\\site-packages (from matplotlib) (23.1)\n",
      "Requirement already satisfied: pillow>=8 in c:\\users\\surendra\\anaconda3\\lib\\site-packages (from matplotlib) (10.2.0)\n",
      "Requirement already satisfied: pyparsing>=2.3.1 in c:\\users\\surendra\\anaconda3\\lib\\site-packages (from matplotlib) (3.0.9)\n",
      "Requirement already satisfied: python-dateutil>=2.7 in c:\\users\\surendra\\anaconda3\\lib\\site-packages (from matplotlib) (2.8.2)\n",
      "Requirement already satisfied: six>=1.5 in c:\\users\\surendra\\anaconda3\\lib\\site-packages (from python-dateutil>=2.7->matplotlib) (1.16.0)\n"
     ]
    }
   ],
   "source": [
    "import pandas as pd\n",
    "!pip install matplotlib\n",
    "import seaborn as sns\n",
    "import numpy as np\n",
    "import matplotlib.pyplot as plt\n",
    "%matplotlib inline"
   ]
  },
  {
   "cell_type": "code",
   "execution_count": 2,
   "id": "afdf48c3-f5c9-4b40-8431-46246f95c11e",
   "metadata": {},
   "outputs": [],
   "source": [
    "Hospitalization_Discharge=pd.read_excel(\"Cardiac_Outcomes.xlsx\",sheet_name=0)\n",
    "CardiacComplications=pd.read_excel(\"Cardiac_Outcomes.xlsx\",sheet_name=1)\n",
    "Responsivenes=pd.read_excel(\"Cardiac_Outcomes.xlsx\",sheet_name=2)\n",
    "PatientHistory=pd.read_excel(\"Cardiac_Outcomes.xlsx\",sheet_name=3)\n",
    "Labs=pd.read_excel(\"Cardiac_Outcomes.xlsx\",sheet_name=4)\n",
    "Demography=pd.read_excel(\"Cardiac_Outcomes.xlsx\",sheet_name=5)\n",
    "Patient_Prescriptions=pd.read_excel(\"Cardiac_Outcomes.xlsx\",sheet_name=6)"
   ]
  },
  {
   "cell_type": "markdown",
   "id": "c5b1b8b9-ca40-4809-b3c7-7c0f37c8d964",
   "metadata": {},
   "source": [
    "#### 28) Store patient number and gender in a dictionary as a pair of values. Show the first 10 values"
   ]
  },
  {
   "cell_type": "code",
   "execution_count": 10,
   "id": "ddfdcce7-61e7-483d-a45d-79853cda8838",
   "metadata": {},
   "outputs": [
    {
     "name": "stdout",
     "output_type": "stream",
     "text": [
      "(857781, 'Male')\n",
      "(743087, 'Female')\n",
      "(866418, 'Male')\n",
      "(775928, 'Male')\n",
      "(810128, 'Female')\n",
      "(823318, 'Female')\n",
      "(844094, 'Male')\n",
      "(787530, 'Female')\n",
      "(795420, 'Female')\n",
      "(829801, 'Female')\n"
     ]
    }
   ],
   "source": [
    "# Get the column info\n",
    "Patient_Num= Demography['inpatient_number']\n",
    "Gender = Demography['gender']\n",
    "result = []\n",
    "for i in range(len( Patient_Num)):\n",
    "     #Adding to result based on indexes\n",
    "     result.append(( Patient_Num[i], Gender[i]))\n",
    "for j in range(min(10, len(result))):\n",
    " print(result[j])"
   ]
  },
  {
   "cell_type": "code",
   "execution_count": null,
   "id": "20447132-91c3-46cb-9570-3e393602950d",
   "metadata": {},
   "outputs": [],
   "source": []
  }
 ],
 "metadata": {
  "kernelspec": {
   "display_name": "Python 3 (ipykernel)",
   "language": "python",
   "name": "python3"
  },
  "language_info": {
   "codemirror_mode": {
    "name": "ipython",
    "version": 3
   },
   "file_extension": ".py",
   "mimetype": "text/x-python",
   "name": "python",
   "nbconvert_exporter": "python",
   "pygments_lexer": "ipython3",
   "version": "3.11.7"
  }
 },
 "nbformat": 4,
 "nbformat_minor": 5
}
