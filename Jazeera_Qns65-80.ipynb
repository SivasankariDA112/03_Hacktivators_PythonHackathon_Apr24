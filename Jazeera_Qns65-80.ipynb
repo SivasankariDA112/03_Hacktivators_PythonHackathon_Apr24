{
 "cells": [
  {
   "cell_type": "code",
   "execution_count": 19,
   "id": "3328d356",
   "metadata": {},
   "outputs": [],
   "source": [
    "import pandas as pd\n",
    "import numpy as np\n",
    "import datetime"
   ]
  },
  {
   "cell_type": "code",
   "execution_count": 20,
   "id": "09fd67d0",
   "metadata": {},
   "outputs": [],
   "source": [
    "#Hospitalization Discharge\n",
    "df0 = pd.read_excel('Cardiac_Outcomes.xlsx', sheet_name=0)\n",
    "#CardiacComplications\n",
    "df1 = pd.read_excel('Cardiac_Outcomes.xlsx', sheet_name=1)\n",
    "#Responsivenes\n",
    "df2 = pd.read_excel('Cardiac_Outcomes.xlsx', sheet_name=2)\n",
    "#PatientHistory\n",
    "df3 = pd.read_excel('Cardiac_Outcomes.xlsx', sheet_name=3)\n",
    "#Labs\n",
    "df4 = pd.read_excel('Cardiac_Outcomes.xlsx', sheet_name=4)\n",
    "#Demography\n",
    "df5 = pd.read_excel('Cardiac_Outcomes.xlsx', sheet_name=5)\n",
    "#Patient_Precriptions\n",
    "df6 = pd.read_excel('Cardiac_Outcomes.xlsx', sheet_name=6)"
   ]
  },
  {
   "attachments": {},
   "cell_type": "markdown",
   "id": "4a5e5102",
   "metadata": {},
   "source": [
    "### 72.What % of the dataset is male vs female?"
   ]
  },
  {
   "cell_type": "code",
   "execution_count": 12,
   "id": "97fc89fe",
   "metadata": {},
   "outputs": [
    {
     "data": {
      "text/plain": [
       "gender\n",
       "Female    57.918327\n",
       "Male      42.081673\n",
       "Name: proportion, dtype: float64"
      ]
     },
     "execution_count": 12,
     "metadata": {},
     "output_type": "execute_result"
    }
   ],
   "source": [
    "male_female_count = df5['gender'].value_counts(normalize=True)*100\n",
    "male_female_count"
   ]
  },
  {
   "cell_type": "markdown",
   "id": "73b6cf8d",
   "metadata": {},
   "source": [
    "### 65.Which Admission Ward has maximum number of visits scheduled?"
   ]
  },
  {
   "cell_type": "code",
   "execution_count": 11,
   "id": "a6464c83",
   "metadata": {},
   "outputs": [
    {
     "name": "stdout",
     "output_type": "stream",
     "text": [
      "Maximum number of visits scheduled in : Cardiology ward\n"
     ]
    }
   ],
   "source": [
    "#grouping based on wards category and then adding the visit times. Then rearranging the index values\n",
    "vst_adm_ward=df0.groupby('admission_ward')['visit_times'].sum().reset_index()\n",
    "\n",
    "# sorting in desending order\n",
    "max_vst= vst_adm_ward.sort_values('visit_times', ascending=False)\n",
    "max_vst\n",
    "\n",
    "# Printing the top value\n",
    "print('Maximum number of visits scheduled in :',max_vst.loc[0,'admission_ward'],'ward')\n"
   ]
  },
  {
   "attachments": {},
   "cell_type": "markdown",
   "id": "fba5cac7",
   "metadata": {},
   "source": [
    "### 71.Which year had the maximum admissions?"
   ]
  },
  {
   "cell_type": "code",
   "execution_count": 13,
   "id": "44ea36d3",
   "metadata": {},
   "outputs": [
    {
     "name": "stdout",
     "output_type": "stream",
     "text": [
      "Maximum admissions happened in the year: 2016\n"
     ]
    }
   ],
   "source": [
    "df0['Year']=df0['Admission_date'].dt.year\n",
    "adm_year=df0.Year.value_counts(dropna=False).reset_index()\n",
    "adm_year\n",
    "\n",
    "\n",
    "# sorting in desending order\n",
    "max_adm_year= adm_year.sort_values('count', ascending=False)\n",
    "max_adm_year\n",
    "\n",
    "# Printing the top value\n",
    "print('Maximum admissions happened in the year:',max_adm_year.loc[0,'Year'])"
   ]
  },
  {
   "attachments": {},
   "cell_type": "markdown",
   "id": "8f27d530",
   "metadata": {},
   "source": [
    "### 70. On average, what is the most frequent weekday of admission?"
   ]
  },
  {
   "cell_type": "code",
   "execution_count": 23,
   "id": "d83400b1",
   "metadata": {},
   "outputs": [
    {
     "name": "stdout",
     "output_type": "stream",
     "text": [
      "Most frequent weekday of admission is: Monday\n"
     ]
    }
   ],
   "source": [
    "#extracting the days of the week from date variable\n",
    "df0['weekday']=df0['Admission_date'].dt.dayofweek\n",
    "\n",
    "#counting the no of entries for each days\n",
    "freq_dy= df0.weekday.value_counts(dropna=False).reset_index()\n",
    "\n",
    "#sorting the entries count in desending order\n",
    "max_cnt= freq_dy.sort_values('count', ascending=False)\n",
    "max_cnt\n",
    "\n",
    "#Mapping the corresponding days by creating a dictionary\n",
    "adm_dow = {0:'Monday',\n",
    "           1:'Tuesday',\n",
    "           2:'Wednesday',\n",
    "           3:'Thursday',\n",
    "           4:'Friday',\n",
    "           5:'Saturday',\n",
    "           6:'Sunday'}\n",
    "\n",
    "#using map function to map the values from dictionary\n",
    "max_cnt['weekday']=max_cnt['weekday'].map(adm_dow)\n",
    "max_cnt\n",
    "\n",
    "# Printing the top value\n",
    "print('Most frequent weekday of admission is:',max_cnt.loc[0,'weekday'])"
   ]
  },
  {
   "attachments": {},
   "cell_type": "markdown",
   "id": "02d062fe",
   "metadata": {},
   "source": [
    "### 73.Which patient in the youngest age category weighs the most?"
   ]
  },
  {
   "cell_type": "code",
   "execution_count": 16,
   "id": "a8c264fb",
   "metadata": {},
   "outputs": [
    {
     "name": "stdout",
     "output_type": "stream",
     "text": [
      "Patient in the youngest age category who weighs the most is: 831184\n"
     ]
    }
   ],
   "source": [
    "#extracting only the rows with the '21-29' agecat, sorting and reseting the index\n",
    "young=df5[df5['ageCat'] == '21-29'].sort_values('weight',ascending=False).reset_index()\n",
    "young\n",
    "\n",
    "# Printing the top value\n",
    "print('Patient in the youngest age category who weighs the most is:',young.loc[0,'inpatient_number'])"
   ]
  },
  {
   "attachments": {},
   "cell_type": "markdown",
   "id": "63963413",
   "metadata": {},
   "source": [
    "### 69.Get the list of patient ID's which are not there in prescriptions but in demographics."
   ]
  },
  {
   "cell_type": "code",
   "execution_count": 18,
   "id": "3f77618d",
   "metadata": {},
   "outputs": [
    {
     "name": "stdout",
     "output_type": "stream",
     "text": [
      "List of patient IDs which are not there in prescriptions but in demographics are: {789308}\n"
     ]
    }
   ],
   "source": [
    "# finding the patient ID's using set difference between demographics and Prescription datasets\n",
    "no_pres = set(df5['inpatient_number']) - set(df6['inpatient_number'])\n",
    "print('List of patient IDs which are not there in prescriptions but in demographics are:',no_pres)"
   ]
  }
 ],
 "metadata": {
  "kernelspec": {
   "display_name": "Python 3 (ipykernel)",
   "language": "python",
   "name": "python3"
  },
  "language_info": {
   "codemirror_mode": {
    "name": "ipython",
    "version": 3
   },
   "file_extension": ".py",
   "mimetype": "text/x-python",
   "name": "python",
   "nbconvert_exporter": "python",
   "pygments_lexer": "ipython3",
   "version": "3.11.7"
  }
 },
 "nbformat": 4,
 "nbformat_minor": 5
}
