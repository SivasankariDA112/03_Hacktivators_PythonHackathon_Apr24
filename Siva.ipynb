{
 "cells": [
  {
   "cell_type": "markdown",
   "id": "c7494327-4f05-43b2-82f7-a51317adc763",
   "metadata": {},
   "source": [
    "### Question#1 - How many patients were registered in each unique occupation?"
   ]
  },
  {
   "cell_type": "code",
   "execution_count": 2,
   "id": "e8bc47d2-27be-4577-bd5d-acad82169c76",
   "metadata": {},
   "outputs": [],
   "source": [
    "import pandas as pd"
   ]
  },
  {
   "cell_type": "code",
   "execution_count": 169,
   "id": "72784864-327e-42fa-a375-88e69107ddc1",
   "metadata": {},
   "outputs": [],
   "source": [
    "#Hospitalization_Discharge\n",
    "df0 = pd.read_excel('Cardiac_Outcomes.xlsx',sheet_name=0)\n",
    "#CardiacComplications\n",
    "df1 = pd.read_excel('Cardiac_Outcomes.xlsx',sheet_name=1)\n",
    "#Responsivenes\n",
    "df2 = pd.read_excel('Cardiac_Outcomes.xlsx',sheet_name=2)\n",
    "#PatientHistory\n",
    "df3 = pd.read_excel('Cardiac_Outcomes.xlsx',sheet_name=3)\n",
    "#Labs\n",
    "df4 = pd.read_excel('Cardiac_Outcomes.xlsx',sheet_name=4)\n",
    "#Demography\n",
    "df5 = pd.read_excel('Cardiac_Outcomes.xlsx',sheet_name=5)\n",
    "#Patient_Precriptions\n",
    "df6 = pd.read_excel('Cardiac_Outcomes.xlsx',sheet_name=6)"
   ]
  },
  {
   "cell_type": "code",
   "execution_count": 103,
   "id": "d1429cc3-578d-4d94-b1cc-04433531cf8f",
   "metadata": {},
   "outputs": [
    {
     "data": {
      "text/plain": [
       "occupation\n",
       "UrbanResident    1670\n",
       "farmer            198\n",
       "Others             89\n",
       "NaN                27\n",
       "worker             17\n",
       "Officer             7\n",
       "Name: count, dtype: int64"
      ]
     },
     "execution_count": 103,
     "metadata": {},
     "output_type": "execute_result"
    }
   ],
   "source": [
    "df5.occupation.value_counts(dropna=False)\n",
    "df5.occupation"
   ]
  },
  {
   "cell_type": "code",
   "execution_count": 109,
   "id": "9b95688f-e48a-421c-bcc6-3d8a91f5bc46",
   "metadata": {},
   "outputs": [
    {
     "data": {
      "text/plain": [
       "0      2017-01-24\n",
       "1      2017-05-05\n",
       "2      2016-11-18\n",
       "3      2017-10-02\n",
       "4      2019-11-17\n",
       "          ...    \n",
       "2003   2016-02-07\n",
       "2004   2017-03-29\n",
       "2005   2018-01-22\n",
       "2006   2019-11-27\n",
       "2007   2017-02-17\n",
       "Name: Admission_date, Length: 2008, dtype: datetime64[ns]"
      ]
     },
     "execution_count": 109,
     "metadata": {},
     "output_type": "execute_result"
    }
   ],
   "source": [
    "df0.Admission_date"
   ]
  },
  {
   "cell_type": "markdown",
   "id": "f385a1c6-dc3f-4271-b30f-6088f3406e25",
   "metadata": {},
   "source": [
    "### Question#46 Convert occupation into numeric by Label encoding"
   ]
  },
  {
   "cell_type": "code",
   "execution_count": 187,
   "id": "e7b652fe-a6ea-481b-8b9d-0a42b0bf1b60",
   "metadata": {},
   "outputs": [],
   "source": [
    "#importing LabelEncoder class from scikit-learn\n",
    "from sklearn.preprocessing import LabelEncoder"
   ]
  },
  {
   "cell_type": "code",
   "execution_count": 191,
   "id": "5c649a6f-5ba8-4fcf-91a0-241cb9f5c434",
   "metadata": {},
   "outputs": [
    {
     "data": {
      "text/plain": [
       "occupation\n",
       "2    1670\n",
       "3     198\n",
       "1      89\n",
       "5      27\n",
       "4      17\n",
       "0       7\n",
       "Name: count, dtype: int64"
      ]
     },
     "execution_count": 191,
     "metadata": {},
     "output_type": "execute_result"
    }
   ],
   "source": [
    "#Create an instance of LabelEncoder() and store it in labelencoder variable/object le\n",
    "le = LabelEncoder()\n",
    "#Apply fit for the occupation column\n",
    "df5.occupation=le.fit_transform(df5.occupation)\n",
    "\n",
    "\n",
    "distinct_occu = df5.occupation.value_counts(dropna=False)\n",
    "distinct_occu"
   ]
  },
  {
   "cell_type": "code",
   "execution_count": 65,
   "id": "3b34430a-d49c-466e-a415-53aac86730e4",
   "metadata": {},
   "outputs": [
    {
     "name": "stdout",
     "output_type": "stream",
     "text": [
      "<class 'pandas.core.frame.DataFrame'>\n",
      "RangeIndex: 2008 entries, 0 to 2007\n",
      "Data columns (total 7 columns):\n",
      " #   Column            Non-Null Count  Dtype  \n",
      "---  ------            --------------  -----  \n",
      " 0   inpatient_number  2008 non-null   int64  \n",
      " 1   gender            2008 non-null   object \n",
      " 2   weight            2008 non-null   float64\n",
      " 3   height            2008 non-null   float64\n",
      " 4   BMI               2008 non-null   float64\n",
      " 5   occupation        2008 non-null   int64  \n",
      " 6   ageCat            2008 non-null   object \n",
      "dtypes: float64(3), int64(2), object(2)\n",
      "memory usage: 109.9+ KB\n"
     ]
    }
   ],
   "source": [
    "df5.info()"
   ]
  },
  {
   "cell_type": "markdown",
   "id": "e4dc816e-a4db-4242-ad93-7362cf5d7b9f",
   "metadata": {},
   "source": [
    "### Question#72 What % of the dataset is male vs female?"
   ]
  },
  {
   "cell_type": "code",
   "execution_count": 51,
   "id": "f7ec8638-350b-4a00-adb7-6c9a3607e3d0",
   "metadata": {},
   "outputs": [
    {
     "data": {
      "text/plain": [
       "gender\n",
       "Female    57.918327\n",
       "Male      42.081673\n",
       "Name: proportion, dtype: float64"
      ]
     },
     "execution_count": 51,
     "metadata": {},
     "output_type": "execute_result"
    }
   ],
   "source": [
    "df5['gender'].value_counts(normalize=True)*100"
   ]
  },
  {
   "cell_type": "markdown",
   "id": "03c7f6a8-165f-4da9-b78f-93f414bc2c15",
   "metadata": {},
   "source": [
    "### Question#56\tUsing loc, retrieve the agegroup and weight between indices 101 and 201."
   ]
  },
  {
   "cell_type": "code",
   "execution_count": 122,
   "id": "582cdd12-2742-49fe-9cbc-ed402b8a3e5d",
   "metadata": {},
   "outputs": [
    {
     "data": {
      "text/html": [
       "<div>\n",
       "<style scoped>\n",
       "    .dataframe tbody tr th:only-of-type {\n",
       "        vertical-align: middle;\n",
       "    }\n",
       "\n",
       "    .dataframe tbody tr th {\n",
       "        vertical-align: top;\n",
       "    }\n",
       "\n",
       "    .dataframe thead th {\n",
       "        text-align: right;\n",
       "    }\n",
       "</style>\n",
       "<table border=\"1\" class=\"dataframe\">\n",
       "  <thead>\n",
       "    <tr style=\"text-align: right;\">\n",
       "      <th></th>\n",
       "      <th>weight</th>\n",
       "      <th>ageCat</th>\n",
       "    </tr>\n",
       "  </thead>\n",
       "  <tbody>\n",
       "    <tr>\n",
       "      <th>101</th>\n",
       "      <td>41.0</td>\n",
       "      <td>69-79</td>\n",
       "    </tr>\n",
       "    <tr>\n",
       "      <th>102</th>\n",
       "      <td>64.0</td>\n",
       "      <td>79-89</td>\n",
       "    </tr>\n",
       "    <tr>\n",
       "      <th>103</th>\n",
       "      <td>61.0</td>\n",
       "      <td>79-89</td>\n",
       "    </tr>\n",
       "    <tr>\n",
       "      <th>104</th>\n",
       "      <td>40.0</td>\n",
       "      <td>79-89</td>\n",
       "    </tr>\n",
       "    <tr>\n",
       "      <th>105</th>\n",
       "      <td>73.0</td>\n",
       "      <td>69-79</td>\n",
       "    </tr>\n",
       "    <tr>\n",
       "      <th>...</th>\n",
       "      <td>...</td>\n",
       "      <td>...</td>\n",
       "    </tr>\n",
       "    <tr>\n",
       "      <th>197</th>\n",
       "      <td>50.0</td>\n",
       "      <td>79-89</td>\n",
       "    </tr>\n",
       "    <tr>\n",
       "      <th>198</th>\n",
       "      <td>50.0</td>\n",
       "      <td>89-110</td>\n",
       "    </tr>\n",
       "    <tr>\n",
       "      <th>199</th>\n",
       "      <td>50.0</td>\n",
       "      <td>69-79</td>\n",
       "    </tr>\n",
       "    <tr>\n",
       "      <th>200</th>\n",
       "      <td>63.0</td>\n",
       "      <td>59-69</td>\n",
       "    </tr>\n",
       "    <tr>\n",
       "      <th>201</th>\n",
       "      <td>60.0</td>\n",
       "      <td>69-79</td>\n",
       "    </tr>\n",
       "  </tbody>\n",
       "</table>\n",
       "<p>101 rows × 2 columns</p>\n",
       "</div>"
      ],
      "text/plain": [
       "     weight  ageCat\n",
       "101    41.0   69-79\n",
       "102    64.0   79-89\n",
       "103    61.0   79-89\n",
       "104    40.0   79-89\n",
       "105    73.0   69-79\n",
       "..      ...     ...\n",
       "197    50.0   79-89\n",
       "198    50.0  89-110\n",
       "199    50.0   69-79\n",
       "200    63.0   59-69\n",
       "201    60.0   69-79\n",
       "\n",
       "[101 rows x 2 columns]"
      ]
     },
     "execution_count": 122,
     "metadata": {},
     "output_type": "execute_result"
    }
   ],
   "source": [
    "ques_56 = df5.loc[101:201, ['weight','ageCat']]\n",
    "ques_56"
   ]
  },
  {
   "cell_type": "markdown",
   "id": "332d30dc-fe28-4480-b11f-0cddbbf71510",
   "metadata": {},
   "source": [
    "### Question#18\tCreate a heatmap on any columns of your choice including at least 1 lab value"
   ]
  },
  {
   "cell_type": "code",
   "execution_count": 46,
   "id": "21272309-b5aa-4d11-b58e-62e8665849bc",
   "metadata": {},
   "outputs": [
    {
     "data": {
      "text/html": [
       "<div>\n",
       "<style scoped>\n",
       "    .dataframe tbody tr th:only-of-type {\n",
       "        vertical-align: middle;\n",
       "    }\n",
       "\n",
       "    .dataframe tbody tr th {\n",
       "        vertical-align: top;\n",
       "    }\n",
       "\n",
       "    .dataframe thead th {\n",
       "        text-align: right;\n",
       "    }\n",
       "</style>\n",
       "<table border=\"1\" class=\"dataframe\">\n",
       "  <thead>\n",
       "    <tr style=\"text-align: right;\">\n",
       "      <th></th>\n",
       "      <th>inpatient_number</th>\n",
       "      <th>body_temperature</th>\n",
       "      <th>pulse</th>\n",
       "      <th>respiration</th>\n",
       "      <th>systolic_blood_pressure</th>\n",
       "      <th>diastolic_blood_pressure</th>\n",
       "      <th>map</th>\n",
       "      <th>fio2</th>\n",
       "      <th>creatinine_enzymatic_method</th>\n",
       "      <th>urea</th>\n",
       "      <th>...</th>\n",
       "      <th>measured_residual_base</th>\n",
       "      <th>measured_bicarbonate</th>\n",
       "      <th>carboxyhemoglobin</th>\n",
       "      <th>body_temperature_blood_gas</th>\n",
       "      <th>oxygen_saturation</th>\n",
       "      <th>partial_oxygen_pressure</th>\n",
       "      <th>oxyhemoglobin</th>\n",
       "      <th>anion_gap</th>\n",
       "      <th>free_calcium</th>\n",
       "      <th>total_hemoglobin</th>\n",
       "    </tr>\n",
       "  </thead>\n",
       "  <tbody>\n",
       "    <tr>\n",
       "      <th>0</th>\n",
       "      <td>857781</td>\n",
       "      <td>36.7</td>\n",
       "      <td>87</td>\n",
       "      <td>19</td>\n",
       "      <td>102</td>\n",
       "      <td>64</td>\n",
       "      <td>76.666667</td>\n",
       "      <td>33</td>\n",
       "      <td>108.3</td>\n",
       "      <td>12.55</td>\n",
       "      <td>...</td>\n",
       "      <td>-2.1</td>\n",
       "      <td>21.2</td>\n",
       "      <td>0.4</td>\n",
       "      <td>37.0</td>\n",
       "      <td>97.0</td>\n",
       "      <td>93.0</td>\n",
       "      <td>95.9</td>\n",
       "      <td>17.8</td>\n",
       "      <td>1.14</td>\n",
       "      <td>125.0</td>\n",
       "    </tr>\n",
       "    <tr>\n",
       "      <th>1</th>\n",
       "      <td>743087</td>\n",
       "      <td>36.8</td>\n",
       "      <td>95</td>\n",
       "      <td>18</td>\n",
       "      <td>150</td>\n",
       "      <td>70</td>\n",
       "      <td>96.666667</td>\n",
       "      <td>33</td>\n",
       "      <td>62.0</td>\n",
       "      <td>4.29</td>\n",
       "      <td>...</td>\n",
       "      <td>NaN</td>\n",
       "      <td>NaN</td>\n",
       "      <td>NaN</td>\n",
       "      <td>NaN</td>\n",
       "      <td>NaN</td>\n",
       "      <td>NaN</td>\n",
       "      <td>NaN</td>\n",
       "      <td>NaN</td>\n",
       "      <td>NaN</td>\n",
       "      <td>NaN</td>\n",
       "    </tr>\n",
       "    <tr>\n",
       "      <th>2</th>\n",
       "      <td>866418</td>\n",
       "      <td>36.5</td>\n",
       "      <td>98</td>\n",
       "      <td>18</td>\n",
       "      <td>102</td>\n",
       "      <td>67</td>\n",
       "      <td>78.666667</td>\n",
       "      <td>33</td>\n",
       "      <td>185.1</td>\n",
       "      <td>15.99</td>\n",
       "      <td>...</td>\n",
       "      <td>NaN</td>\n",
       "      <td>NaN</td>\n",
       "      <td>NaN</td>\n",
       "      <td>NaN</td>\n",
       "      <td>NaN</td>\n",
       "      <td>NaN</td>\n",
       "      <td>NaN</td>\n",
       "      <td>NaN</td>\n",
       "      <td>NaN</td>\n",
       "      <td>NaN</td>\n",
       "    </tr>\n",
       "    <tr>\n",
       "      <th>3</th>\n",
       "      <td>775928</td>\n",
       "      <td>36.0</td>\n",
       "      <td>73</td>\n",
       "      <td>19</td>\n",
       "      <td>110</td>\n",
       "      <td>74</td>\n",
       "      <td>86.000000</td>\n",
       "      <td>33</td>\n",
       "      <td>104.8</td>\n",
       "      <td>8.16</td>\n",
       "      <td>...</td>\n",
       "      <td>NaN</td>\n",
       "      <td>NaN</td>\n",
       "      <td>NaN</td>\n",
       "      <td>NaN</td>\n",
       "      <td>NaN</td>\n",
       "      <td>NaN</td>\n",
       "      <td>NaN</td>\n",
       "      <td>NaN</td>\n",
       "      <td>NaN</td>\n",
       "      <td>NaN</td>\n",
       "    </tr>\n",
       "    <tr>\n",
       "      <th>4</th>\n",
       "      <td>810128</td>\n",
       "      <td>35.0</td>\n",
       "      <td>88</td>\n",
       "      <td>19</td>\n",
       "      <td>134</td>\n",
       "      <td>62</td>\n",
       "      <td>86.000000</td>\n",
       "      <td>33</td>\n",
       "      <td>83.9</td>\n",
       "      <td>6.86</td>\n",
       "      <td>...</td>\n",
       "      <td>NaN</td>\n",
       "      <td>NaN</td>\n",
       "      <td>NaN</td>\n",
       "      <td>NaN</td>\n",
       "      <td>NaN</td>\n",
       "      <td>NaN</td>\n",
       "      <td>NaN</td>\n",
       "      <td>NaN</td>\n",
       "      <td>NaN</td>\n",
       "      <td>NaN</td>\n",
       "    </tr>\n",
       "  </tbody>\n",
       "</table>\n",
       "<p>5 rows × 107 columns</p>\n",
       "</div>"
      ],
      "text/plain": [
       "   inpatient_number  body_temperature  pulse  respiration  \\\n",
       "0            857781              36.7     87           19   \n",
       "1            743087              36.8     95           18   \n",
       "2            866418              36.5     98           18   \n",
       "3            775928              36.0     73           19   \n",
       "4            810128              35.0     88           19   \n",
       "\n",
       "   systolic_blood_pressure  diastolic_blood_pressure        map  fio2  \\\n",
       "0                      102                        64  76.666667    33   \n",
       "1                      150                        70  96.666667    33   \n",
       "2                      102                        67  78.666667    33   \n",
       "3                      110                        74  86.000000    33   \n",
       "4                      134                        62  86.000000    33   \n",
       "\n",
       "   creatinine_enzymatic_method   urea  ...  measured_residual_base  \\\n",
       "0                        108.3  12.55  ...                    -2.1   \n",
       "1                         62.0   4.29  ...                     NaN   \n",
       "2                        185.1  15.99  ...                     NaN   \n",
       "3                        104.8   8.16  ...                     NaN   \n",
       "4                         83.9   6.86  ...                     NaN   \n",
       "\n",
       "   measured_bicarbonate  carboxyhemoglobin  body_temperature_blood_gas  \\\n",
       "0                  21.2                0.4                        37.0   \n",
       "1                   NaN                NaN                         NaN   \n",
       "2                   NaN                NaN                         NaN   \n",
       "3                   NaN                NaN                         NaN   \n",
       "4                   NaN                NaN                         NaN   \n",
       "\n",
       "   oxygen_saturation  partial_oxygen_pressure  oxyhemoglobin  anion_gap  \\\n",
       "0               97.0                     93.0           95.9       17.8   \n",
       "1                NaN                      NaN            NaN        NaN   \n",
       "2                NaN                      NaN            NaN        NaN   \n",
       "3                NaN                      NaN            NaN        NaN   \n",
       "4                NaN                      NaN            NaN        NaN   \n",
       "\n",
       "   free_calcium  total_hemoglobin  \n",
       "0          1.14             125.0  \n",
       "1           NaN               NaN  \n",
       "2           NaN               NaN  \n",
       "3           NaN               NaN  \n",
       "4           NaN               NaN  \n",
       "\n",
       "[5 rows x 107 columns]"
      ]
     },
     "execution_count": 46,
     "metadata": {},
     "output_type": "execute_result"
    }
   ],
   "source": [
    "df4.head()"
   ]
  },
  {
   "cell_type": "code",
   "execution_count": 150,
   "id": "a6e7eaf9-dc1e-4699-bd44-e83d1c213f7c",
   "metadata": {},
   "outputs": [
    {
     "data": {
      "text/plain": [
       "<Axes: ylabel='ageCat-gender'>"
      ]
     },
     "execution_count": 150,
     "metadata": {},
     "output_type": "execute_result"
    },
    {
     "data": {
      "image/png": "[encoded data removed]",
      "text/plain": [
       "<Figure size 640x480 with 2 Axes>"
      ]
     },
     "metadata": {},
     "output_type": "display_data"
    }
   ],
   "source": [
    "# importing seaborn library\n",
    "import seaborn as sns\n",
    "#import matplotlib.pyplot as plt\n",
    "#%matplotlib inline \n",
    "import numpy as np\n",
    "\n",
    "# merging labs and demography datasets\n",
    "df7=df4.merge(df5,on='inpatient_number')\n",
    "\n",
    "# creating a new dataframe df7 with only he columns gender, ageCat, hemoglobin\n",
    "df7=df7.loc[:,['gender','ageCat','hemoglobin']]\n",
    "\n",
    "#calculating the average hemoglobin values for each age group\n",
    "hem_agecat= df7.groupby(['ageCat','gender']).mean('hemoglobin')\n",
    "\n",
    "#a=np.transpose('gender')\n",
    "#a\n",
    "#a=hem_agecat.T\n",
    "#a\n",
    "\n",
    "#a=hem_agecat.transpose('gender')\n",
    "\n",
    "# generating heat map for these age categories and their avg Hemoglobin values\n",
    "sns.heatmap(hem_agecat, annot=True, cmap='YlGnBu', fmt='.1f')"
   ]
  },
  {
   "cell_type": "code",
   "execution_count": 47,
   "id": "de12c31c-72f3-47eb-a03d-acef85b7e968",
   "metadata": {},
   "outputs": [
    {
     "ename": "IndexError",
     "evalue": "Inconsistent shape between the condition and the input (got (2008, 1) and (2008,))",
     "output_type": "error",
     "traceback": [
      "\u001b[1;31m---------------------------------------------------------------------------\u001b[0m",
      "\u001b[1;31mIndexError\u001b[0m                                Traceback (most recent call last)",
      "Cell \u001b[1;32mIn[47], line 11\u001b[0m\n\u001b[0;32m      9\u001b[0m plt\u001b[38;5;241m.\u001b[39mfigure(figsize\u001b[38;5;241m=\u001b[39m(\u001b[38;5;241m15\u001b[39m, \u001b[38;5;241m10\u001b[39m))\n\u001b[0;32m     10\u001b[0m \u001b[38;5;66;03m#sns.heatmap(cor_matrix,annot=True, cmap='coolwarm', linewidths=0.5)\u001b[39;00m\n\u001b[1;32m---> 11\u001b[0m sns\u001b[38;5;241m.\u001b[39mheatmap(df4[\u001b[38;5;124m'\u001b[39m\u001b[38;5;124mbody_temperature\u001b[39m\u001b[38;5;124m'\u001b[39m],annot\u001b[38;5;241m=\u001b[39m\u001b[38;5;28;01mTrue\u001b[39;00m, cmap\u001b[38;5;241m=\u001b[39m\u001b[38;5;124m'\u001b[39m\u001b[38;5;124mcoolwarm\u001b[39m\u001b[38;5;124m'\u001b[39m, linewidths\u001b[38;5;241m=\u001b[39m\u001b[38;5;241m0.5\u001b[39m)\n\u001b[0;32m     12\u001b[0m plt\u001b[38;5;241m.\u001b[39mtitle(\u001b[38;5;124m'\u001b[39m\u001b[38;5;124mHeatmap of Body Temperature\u001b[39m\u001b[38;5;124m'\u001b[39m)\n",
      "File \u001b[1;32m~\\anaconda3\\Lib\\site-packages\\seaborn\\matrix.py:446\u001b[0m, in \u001b[0;36mheatmap\u001b[1;34m(data, vmin, vmax, cmap, center, robust, annot, fmt, annot_kws, linewidths, linecolor, cbar, cbar_kws, cbar_ax, square, xticklabels, yticklabels, mask, ax, **kwargs)\u001b[0m\n\u001b[0;32m    365\u001b[0m \u001b[38;5;250m\u001b[39m\u001b[38;5;124;03m\"\"\"Plot rectangular data as a color-encoded matrix.\u001b[39;00m\n\u001b[0;32m    366\u001b[0m \n\u001b[0;32m    367\u001b[0m \u001b[38;5;124;03mThis is an Axes-level function and will draw the heatmap into the\u001b[39;00m\n\u001b[1;32m   (...)\u001b[0m\n\u001b[0;32m    443\u001b[0m \n\u001b[0;32m    444\u001b[0m \u001b[38;5;124;03m\"\"\"\u001b[39;00m\n\u001b[0;32m    445\u001b[0m \u001b[38;5;66;03m# Initialize the plotter object\u001b[39;00m\n\u001b[1;32m--> 446\u001b[0m plotter \u001b[38;5;241m=\u001b[39m _HeatMapper(data, vmin, vmax, cmap, center, robust, annot, fmt,\n\u001b[0;32m    447\u001b[0m                       annot_kws, cbar, cbar_kws, xticklabels,\n\u001b[0;32m    448\u001b[0m                       yticklabels, mask)\n\u001b[0;32m    450\u001b[0m \u001b[38;5;66;03m# Add the pcolormesh kwargs here\u001b[39;00m\n\u001b[0;32m    451\u001b[0m kwargs[\u001b[38;5;124m\"\u001b[39m\u001b[38;5;124mlinewidths\u001b[39m\u001b[38;5;124m\"\u001b[39m] \u001b[38;5;241m=\u001b[39m linewidths\n",
      "File \u001b[1;32m~\\anaconda3\\Lib\\site-packages\\seaborn\\matrix.py:115\u001b[0m, in \u001b[0;36m_HeatMapper.__init__\u001b[1;34m(self, data, vmin, vmax, cmap, center, robust, annot, fmt, annot_kws, cbar, cbar_kws, xticklabels, yticklabels, mask)\u001b[0m\n\u001b[0;32m    112\u001b[0m \u001b[38;5;66;03m# Validate the mask and convert to DataFrame\u001b[39;00m\n\u001b[0;32m    113\u001b[0m mask \u001b[38;5;241m=\u001b[39m _matrix_mask(data, mask)\n\u001b[1;32m--> 115\u001b[0m plot_data \u001b[38;5;241m=\u001b[39m np\u001b[38;5;241m.\u001b[39mma\u001b[38;5;241m.\u001b[39mmasked_where(np\u001b[38;5;241m.\u001b[39masarray(mask), plot_data)\n\u001b[0;32m    117\u001b[0m \u001b[38;5;66;03m# Get good names for the rows and columns\u001b[39;00m\n\u001b[0;32m    118\u001b[0m xtickevery \u001b[38;5;241m=\u001b[39m \u001b[38;5;241m1\u001b[39m\n",
      "File \u001b[1;32m~\\anaconda3\\Lib\\site-packages\\numpy\\ma\\core.py:1933\u001b[0m, in \u001b[0;36mmasked_where\u001b[1;34m(condition, a, copy)\u001b[0m\n\u001b[0;32m   1931\u001b[0m (cshape, ashape) \u001b[38;5;241m=\u001b[39m (cond\u001b[38;5;241m.\u001b[39mshape, a\u001b[38;5;241m.\u001b[39mshape)\n\u001b[0;32m   1932\u001b[0m \u001b[38;5;28;01mif\u001b[39;00m cshape \u001b[38;5;129;01mand\u001b[39;00m cshape \u001b[38;5;241m!=\u001b[39m ashape:\n\u001b[1;32m-> 1933\u001b[0m     \u001b[38;5;28;01mraise\u001b[39;00m \u001b[38;5;167;01mIndexError\u001b[39;00m(\u001b[38;5;124m\"\u001b[39m\u001b[38;5;124mInconsistent shape between the condition and the input\u001b[39m\u001b[38;5;124m\"\u001b[39m\n\u001b[0;32m   1934\u001b[0m                      \u001b[38;5;124m\"\u001b[39m\u001b[38;5;124m (got \u001b[39m\u001b[38;5;132;01m%s\u001b[39;00m\u001b[38;5;124m and \u001b[39m\u001b[38;5;132;01m%s\u001b[39;00m\u001b[38;5;124m)\u001b[39m\u001b[38;5;124m\"\u001b[39m \u001b[38;5;241m%\u001b[39m (cshape, ashape))\n\u001b[0;32m   1935\u001b[0m \u001b[38;5;28;01mif\u001b[39;00m \u001b[38;5;28mhasattr\u001b[39m(a, \u001b[38;5;124m'\u001b[39m\u001b[38;5;124m_mask\u001b[39m\u001b[38;5;124m'\u001b[39m):\n\u001b[0;32m   1936\u001b[0m     cond \u001b[38;5;241m=\u001b[39m mask_or(cond, a\u001b[38;5;241m.\u001b[39m_mask)\n",
      "\u001b[1;31mIndexError\u001b[0m: Inconsistent shape between the condition and the input (got (2008, 1) and (2008,))"
     ]
    },
    {
     "data": {
      "text/plain": [
       "<Figure size 1500x1000 with 0 Axes>"
      ]
     },
     "metadata": {},
     "output_type": "display_data"
    }
   ],
   "source": [
    "\n",
    "import seaborn as sns\n",
    "import matplotlib.pyplot as plt\n",
    "%matplotlib inline \n",
    "\n",
    "#cor_matrix = df4['body_temperature'].corr()\n",
    "\n",
    "#df_lb = pd.DataFrame({'pt_no':df4['inpatient_number'],'bdy_temp':df4['body_temperature'],'pulse':df4['pulse']})\n",
    "df4.set_index('inpatient_number', inplace=True)\n",
    "plt.figure(figsize=(15, 10))\n",
    "#sns.heatmap(cor_matrix,annot=True, cmap='coolwarm', linewidths=0.5)\n",
    "sns.heatmap(df4['body_temperature'],annot=True, cmap='coolwarm', linewidths=0.5)\n",
    "plt.title('Heatmap of Body Temperature')"
   ]
  },
  {
   "cell_type": "code",
   "execution_count": 41,
   "id": "7ef0f362-645c-46a4-aa5f-98c0e040228d",
   "metadata": {},
   "outputs": [
    {
     "name": "stdout",
     "output_type": "stream",
     "text": [
      "<class 'pandas.core.frame.DataFrame'>\n",
      "RangeIndex: 2008 entries, 0 to 2007\n",
      "Columns: 107 entries, inpatient_number to total_hemoglobin\n",
      "dtypes: float64(101), int64(6)\n",
      "memory usage: 1.6 MB\n"
     ]
    }
   ],
   "source": [
    "df4.info()"
   ]
  },
  {
   "cell_type": "markdown",
   "id": "afe28301-dbbf-4a16-9828-962560fef2b2",
   "metadata": {},
   "source": [
    "### Question#65 Which Admission Ward has maximum number of visits scheduled"
   ]
  },
  {
   "cell_type": "code",
   "execution_count": 110,
   "id": "128b11ee-1c2d-4c76-b817-c65c86a24f2e",
   "metadata": {},
   "outputs": [
    {
     "name": "stdout",
     "output_type": "stream",
     "text": [
      "Maximum number of visits scheduled in : Cardiology ward\n"
     ]
    }
   ],
   "source": [
    "#grouping based on wards category and then adding the visit times. Then rearranging the index values\n",
    "vst_adm_ward=df0.groupby('admission_ward')['visit_times'].sum().reset_index()\n",
    "\n",
    "# sorting in desending order\n",
    "max_vst= vst_adm_ward.sort_values('visit_times', ascending=False)\n",
    "max_vst\n",
    "\n",
    "# Printing the top value\n",
    "print('Maximum number of visits scheduled in :',max_vst.loc[0,'admission_ward'],'ward')"
   ]
  },
  {
   "cell_type": "markdown",
   "id": "579ed1ac-8ecf-412c-9811-d4e54bc5d496",
   "metadata": {},
   "source": [
    "### Question#71 -Which year had the maximum admissions"
   ]
  },
  {
   "cell_type": "code",
   "execution_count": 107,
   "id": "5a002838-15f2-4769-9468-0d4b823f6642",
   "metadata": {},
   "outputs": [
    {
     "name": "stdout",
     "output_type": "stream",
     "text": [
      "Maximum admissions happened in the year: 2016\n"
     ]
    }
   ],
   "source": [
    "df0['Year']=df0['Admission_date'].dt.year\n",
    "adm_year=df0.Year.value_counts(dropna=False).reset_index()\n",
    "adm_year\n",
    "\n",
    "\n",
    "# sorting in desending order\n",
    "max_adm_year= adm_year.sort_values('count', ascending=False)\n",
    "max_adm_year\n",
    "\n",
    "# Printing the top value\n",
    "print('Maximum admissions happened in the year:',max_adm_year.loc[0,'Year'])"
   ]
  },
  {
   "cell_type": "markdown",
   "id": "472be185-eaa1-431f-91da-ee8e3f17bcb1",
   "metadata": {},
   "source": [
    "### Question#39 Create a subplot on x = np.arange(0, 10, 0.1) , y = np.sin(np.pi * x) + x with 2 rows & 2 columns with object oriented approach\n"
   ]
  },
  {
   "cell_type": "code",
   "execution_count": 88,
   "id": "d5b0b744-4096-425c-8c96-d79c60c20f83",
   "metadata": {},
   "outputs": [
    {
     "name": "stdout",
     "output_type": "stream",
     "text": [
      "Requirement already satisfied: matplotlib in c:\\users\\laasya\\anaconda3\\lib\\site-packages (3.8.0)\n",
      "Requirement already satisfied: contourpy>=1.0.1 in c:\\users\\laasya\\anaconda3\\lib\\site-packages (from matplotlib) (1.2.0)\n",
      "Requirement already satisfied: cycler>=0.10 in c:\\users\\laasya\\anaconda3\\lib\\site-packages (from matplotlib) (0.11.0)\n",
      "Requirement already satisfied: fonttools>=4.22.0 in c:\\users\\laasya\\anaconda3\\lib\\site-packages (from matplotlib) (4.25.0)\n",
      "Requirement already satisfied: kiwisolver>=1.0.1 in c:\\users\\laasya\\anaconda3\\lib\\site-packages (from matplotlib) (1.4.4)\n",
      "Requirement already satisfied: numpy<2,>=1.21 in c:\\users\\laasya\\anaconda3\\lib\\site-packages (from matplotlib) (1.26.4)\n",
      "Requirement already satisfied: packaging>=20.0 in c:\\users\\laasya\\anaconda3\\lib\\site-packages (from matplotlib) (23.1)\n",
      "Requirement already satisfied: pillow>=6.2.0 in c:\\users\\laasya\\anaconda3\\lib\\site-packages (from matplotlib) (10.2.0)\n",
      "Requirement already satisfied: pyparsing>=2.3.1 in c:\\users\\laasya\\anaconda3\\lib\\site-packages (from matplotlib) (3.0.9)\n",
      "Requirement already satisfied: python-dateutil>=2.7 in c:\\users\\laasya\\anaconda3\\lib\\site-packages (from matplotlib) (2.8.2)\n",
      "Requirement already satisfied: six>=1.5 in c:\\users\\laasya\\anaconda3\\lib\\site-packages (from python-dateutil>=2.7->matplotlib) (1.16.0)\n",
      "Note: you may need to restart the kernel to use updated packages.\n"
     ]
    }
   ],
   "source": [
    "pip install matplotlib"
   ]
  },
  {
   "cell_type": "code",
   "execution_count": 89,
   "id": "f835a9ff-5a8c-440c-b85f-2d0c15db0bfd",
   "metadata": {},
   "outputs": [],
   "source": [
    "import numpy as np\n",
    "import matplotlib.pyplot as plt\n",
    "#no need to write plt.show everytime\n",
    "%matplotlib inline \n"
   ]
  },
  {
   "cell_type": "code",
   "execution_count": 172,
   "id": "bbbbe5a8-0f1b-42c5-8eac-077e21f6f002",
   "metadata": {},
   "outputs": [
    {
     "name": "stderr",
     "output_type": "stream",
     "text": [
      "C:\\Users\\laasya\\AppData\\Local\\Temp\\ipykernel_51152\\4123325627.py:22: RuntimeWarning: divide by zero encountered in log\n",
      "  y = np.log(np.pi * x) + x\n"
     ]
    },
    {
     "data": {
      "image/png": "[encoded data removed]",
      "text/plain": [
       "<Figure size 1200x800 with 4 Axes>"
      ]
     },
     "metadata": {},
     "output_type": "display_data"
    }
   ],
   "source": [
    "#creating sin wave\n",
    "x = np.arange(0, 10, 0.1) \n",
    "y = np.sin(np.pi * x) + x \n",
    "fig,axs = plt.subplots(2,2,figsize=(12,8))\n",
    "\n",
    "axs[0,0].plot(x,y)\n",
    "axs[0,0].set_title('Sin Wave')\n",
    "\n",
    "#creating cos wave\n",
    "y = np.cos(np.pi * x) + x \n",
    "\n",
    "axs[0,1].plot(x,y)\n",
    "axs[0,1].set_title('Cos Wave')\n",
    "\n",
    "#creating tan wave\n",
    "y = np.tan(np.pi * x) + x \n",
    "\n",
    "axs[1,0].plot(x,y)\n",
    "axs[1,0].set_title('Tan Wave')\n",
    "\n",
    "#creating log wave\n",
    "y = np.log(np.pi * x) + x \n",
    "\n",
    "axs[1,1].plot(x,y)\n",
    "axs[1,1].set_title('Log Wave');"
   ]
  },
  {
   "cell_type": "markdown",
   "id": "79e52da9-ca00-4038-9883-15c742f413ed",
   "metadata": {},
   "source": [
    "### Question#61\tnp.arange(1,31).reshape(6,5) Find the array slicing to get the elements with values 11,12,16,17."
   ]
  },
  {
   "cell_type": "code",
   "execution_count": 186,
   "id": "e7444329-bc0f-43f2-8aec-13922d6b76fc",
   "metadata": {},
   "outputs": [
    {
     "name": "stdout",
     "output_type": "stream",
     "text": [
      "[11 12 16 17]\n"
     ]
    }
   ],
   "source": [
    "#creating an array \n",
    "array1=np.arange(1,31).reshape(6,5)\n",
    "#print(array1)\n",
    "\n",
    "#slicing the 11,12,16,17th elements from the array using where\n",
    "slice=np.where(np.isin(array1,[11,12,16,17]))\n",
    "\n",
    "#printing the slice\n",
    "print(array1[slice])\n"
   ]
  },
  {
   "cell_type": "markdown",
   "id": "35d64b65-2691-4cc7-83c8-431ba2c89e3d",
   "metadata": {},
   "source": [
    "### Question#11\tA valid mobile number is a ten digit number starting with a 7,8 or 9. For every string listed, print \"YES\" if it is a valid mobile number and \"NO\" if it is not on separate lines. Do not print the quotes. {2,9587456281,1252478965,7397260044}"
   ]
  },
  {
   "cell_type": "code",
   "execution_count": 181,
   "id": "965a6a68-afbf-4daa-83ff-6e83e55f5d65",
   "metadata": {},
   "outputs": [],
   "source": [
    "# creating a list of mobile numbers\n",
    "ph=['2','9587456281','1252478965','7397260044']"
   ]
  },
  {
   "cell_type": "code",
   "execution_count": 182,
   "id": "735cbba9-656a-4ca4-a65b-85fbec6a6ddc",
   "metadata": {},
   "outputs": [
    {
     "name": "stdout",
     "output_type": "stream",
     "text": [
      "NO\n",
      "YES\n",
      "NO\n",
      "YES\n"
     ]
    }
   ],
   "source": [
    "for i in ph:\n",
    "    if len(i) == 10 and i[0] in ['7','8','9']:\n",
    "        print(\"YES\")\n",
    "    else:\n",
    "        print(\"NO\")"
   ]
  },
  {
   "cell_type": "markdown",
   "id": "fc44b30b-7a88-4f8a-9b04-1e776ee2b75d",
   "metadata": {},
   "source": [
    "### Question#43\tGive Distribution chart of max Killip_grade"
   ]
  },
  {
   "cell_type": "code",
   "execution_count": null,
   "id": "ab5cde17-08f3-4a54-a2a4-fdd12cf37818",
   "metadata": {},
   "outputs": [],
   "source": [
    "import seaborn as sns"
   ]
  },
  {
   "cell_type": "code",
   "execution_count": 197,
   "id": "2dc43166-0aa7-4279-aa67-18c9f749b9a6",
   "metadata": {},
   "outputs": [],
   "source": [
    "\n",
    "\n",
    "#sns.histplot(df1.Killip_grade.max())\n"
   ]
  },
  {
   "cell_type": "code",
   "execution_count": 198,
   "id": "a54c7031-afb5-42aa-bc50-924588c88043",
   "metadata": {},
   "outputs": [
    {
     "data": {
      "image/png": "[encoded data removed]",
      "text/plain": [
       "<Figure size 640x480 with 1 Axes>"
      ]
     },
     "metadata": {},
     "output_type": "display_data"
    }
   ],
   "source": [
    "df1.Killip_grade.hist();"
   ]
  },
  {
   "cell_type": "markdown",
   "id": "51527885-973f-4954-9ae3-beb2a0240ce0",
   "metadata": {},
   "source": [
    "### Question#45 Create a dataframe with date and time as columns, where the values are the admission time"
   ]
  },
  {
   "cell_type": "code",
   "execution_count": 21,
   "id": "656d2d5f-a463-4da0-8ac8-69c0b6ac8f82",
   "metadata": {},
   "outputs": [],
   "source": [
    "#creating a dataframe using Admission_date variable from Hospitalization_Discharge\n",
    "df_date = pd.DataFrame({'Adm_date_tm':df0['Admission_date']})\n",
    "df_date['date'] = df_date['Adm_date_tm'].dt.date\n",
    "df_date['time'] = df_date['Adm_date_tm'].dt.time"
   ]
  },
  {
   "cell_type": "code",
   "execution_count": 22,
   "id": "6c8d975a-2c58-41f1-b81e-ce30fd370bce",
   "metadata": {},
   "outputs": [
    {
     "data": {
      "text/html": [
       "<div>\n",
       "<style scoped>\n",
       "    .dataframe tbody tr th:only-of-type {\n",
       "        vertical-align: middle;\n",
       "    }\n",
       "\n",
       "    .dataframe tbody tr th {\n",
       "        vertical-align: top;\n",
       "    }\n",
       "\n",
       "    .dataframe thead th {\n",
       "        text-align: right;\n",
       "    }\n",
       "</style>\n",
       "<table border=\"1\" class=\"dataframe\">\n",
       "  <thead>\n",
       "    <tr style=\"text-align: right;\">\n",
       "      <th></th>\n",
       "      <th>Adm_dt_tm</th>\n",
       "      <th>date</th>\n",
       "      <th>time</th>\n",
       "    </tr>\n",
       "  </thead>\n",
       "  <tbody>\n",
       "    <tr>\n",
       "      <th>0</th>\n",
       "      <td>2017-01-24</td>\n",
       "      <td>2017-01-24</td>\n",
       "      <td>00:00:00</td>\n",
       "    </tr>\n",
       "    <tr>\n",
       "      <th>1</th>\n",
       "      <td>2017-05-05</td>\n",
       "      <td>2017-05-05</td>\n",
       "      <td>00:00:00</td>\n",
       "    </tr>\n",
       "    <tr>\n",
       "      <th>2</th>\n",
       "      <td>2016-11-18</td>\n",
       "      <td>2016-11-18</td>\n",
       "      <td>00:00:00</td>\n",
       "    </tr>\n",
       "    <tr>\n",
       "      <th>3</th>\n",
       "      <td>2017-10-02</td>\n",
       "      <td>2017-10-02</td>\n",
       "      <td>00:00:00</td>\n",
       "    </tr>\n",
       "    <tr>\n",
       "      <th>4</th>\n",
       "      <td>2019-11-17</td>\n",
       "      <td>2019-11-17</td>\n",
       "      <td>00:00:00</td>\n",
       "    </tr>\n",
       "  </tbody>\n",
       "</table>\n",
       "</div>"
      ],
      "text/plain": [
       "   Adm_dt_tm        date      time\n",
       "0 2017-01-24  2017-01-24  00:00:00\n",
       "1 2017-05-05  2017-05-05  00:00:00\n",
       "2 2016-11-18  2016-11-18  00:00:00\n",
       "3 2017-10-02  2017-10-02  00:00:00\n",
       "4 2019-11-17  2019-11-17  00:00:00"
      ]
     },
     "execution_count": 22,
     "metadata": {},
     "output_type": "execute_result"
    }
   ],
   "source": [
    "df_date.head()"
   ]
  },
  {
   "cell_type": "markdown",
   "id": "8aae9426-72f6-43c1-8ca9-0211616e7c6c",
   "metadata": {},
   "source": [
    "### Question#70 On average, what is the most frequent weekday of admission?"
   ]
  },
  {
   "cell_type": "code",
   "execution_count": 125,
   "id": "e7e5001d-37bd-4507-b995-2f45085d089e",
   "metadata": {},
   "outputs": [
    {
     "name": "stdout",
     "output_type": "stream",
     "text": [
      "Most frequent weekday of admission is: Monday\n"
     ]
    }
   ],
   "source": [
    "#extracting the days of the week from date variable\n",
    "df0['weekday']=df0['Admission_date'].dt.dayofweek\n",
    "\n",
    "#counting the no of entries for each days\n",
    "freq_dy= df0.weekday.value_counts(dropna=False).reset_index()\n",
    "\n",
    "#sorting the entries count in desending order\n",
    "max_cnt= freq_dy.sort_values('count', ascending=False)\n",
    "max_cnt\n",
    "\n",
    "#Mapping the corresponding days by creating a dictionary\n",
    "adm_dow = {0:'Monday',\n",
    "           1:'Tuesday',\n",
    "           2:'Wednesday',\n",
    "           3:'Thursday',\n",
    "           4:'Friday',\n",
    "           5:'Saturday',\n",
    "           6:'Sunday'}\n",
    "\n",
    "#using map function to map the values from dictionary\n",
    "max_cnt['Admission_date']=max_cnt['Admission_date'].map(adm_dow)\n",
    "max_cnt\n",
    "\n",
    "# Printing the top value\n",
    "print('Most frequent weekday of admission is:',max_cnt.loc[0,'Admission_date'])"
   ]
  },
  {
   "cell_type": "markdown",
   "id": "ec59b5eb-2cab-47b1-8622-f1b1dc5bd19c",
   "metadata": {},
   "source": [
    "### Question73 Which patient in the youngest age category weighs the most?"
   ]
  },
  {
   "cell_type": "code",
   "execution_count": 147,
   "id": "ca60006f-1cf0-42ca-8788-843a0d3601c5",
   "metadata": {},
   "outputs": [
    {
     "name": "stdout",
     "output_type": "stream",
     "text": [
      "Patient in the youngest age category weighs the most is: 831184\n"
     ]
    }
   ],
   "source": [
    "#extracting only the rows with the '21-29' agecat, sorting and reseting the index\n",
    "young=df5[df5['ageCat'] == '21-29'].sort_values('weight',ascending=False).reset_index()\n",
    "young\n",
    "\n",
    "# Printing the top value\n",
    "print('Patient in the youngest age category weighs the most is:',young.loc[0,'inpatient_number'])\n"
   ]
  },
  {
   "cell_type": "code",
   "execution_count": 33,
   "id": "8d50ff19-93bd-4f76-92a7-24d889777dca",
   "metadata": {},
   "outputs": [
    {
     "data": {
      "text/plain": [
       "ageCat\n",
       "69-79     715\n",
       "79-89     646\n",
       "59-69     368\n",
       "49-59     106\n",
       "89-110    101\n",
       "39-49      56\n",
       "29-39      12\n",
       "21-29       4\n",
       "Name: count, dtype: int64"
      ]
     },
     "execution_count": 33,
     "metadata": {},
     "output_type": "execute_result"
    }
   ],
   "source": [
    "df5.ageCat.value_counts(dropna=False)\n",
    "\n",
    "\n",
    "\n",
    "df0['Year']=df0['Admission_date'].dt.year\n",
    "adm_year=df0.Year.value_counts(dropna=False).reset_index()\n",
    "adm_year\n",
    "\n",
    "\n",
    "# sorting in desending order\n",
    "max_adm_year= adm_year.sort_values('count', ascending=False)\n",
    "max_adm_year\n",
    "\n",
    "# Printing the top value\n",
    "print('Maximum admissions happened in the year:',max_adm_year.loc[0,'Year'])"
   ]
  },
  {
   "cell_type": "markdown",
   "id": "d6dfafd0-8434-45c9-8cb6-69ae06c58ece",
   "metadata": {},
   "source": [
    "### Question69 Get the list of patient ID's which are not there in prescriptions but in demographics"
   ]
  },
  {
   "cell_type": "code",
   "execution_count": 184,
   "id": "4784ae33-4fbe-4801-afbd-f73883cbc703",
   "metadata": {},
   "outputs": [
    {
     "name": "stdout",
     "output_type": "stream",
     "text": [
      "List of patient IDs which are not there in prescriptions but in demographics are: {789308}\n"
     ]
    }
   ],
   "source": [
    "# finding the patient ID's using set difference between demographics and Prescription datasets\n",
    "no_pres = set(df5['inpatient_number']) - set(df6['inpatient_number'])\n",
    "print('List of patient IDs which are not there in prescriptions but in demographics are:',no_pres)"
   ]
  },
  {
   "cell_type": "markdown",
   "id": "372c1010-749c-435b-b4f1-111e42cccbe1",
   "metadata": {},
   "source": [
    "### Question#51 Display a violin chart to show distribution of Pulse Rate against age."
   ]
  },
  {
   "cell_type": "code",
   "execution_count": 34,
   "id": "8f06870c-a3fd-4da2-929b-2791229f398f",
   "metadata": {},
   "outputs": [],
   "source": [
    "import numpy as np\n",
    "import seaborn as sns\n",
    "import matplotlib.pyplot as plt\n",
    "#no need to write plt.show everytime\n",
    "%matplotlib inline \n"
   ]
  },
  {
   "cell_type": "code",
   "execution_count": 36,
   "id": "4d219e35-fece-4eef-9b4d-e8f1127019cf",
   "metadata": {},
   "outputs": [
    {
     "name": "stdout",
     "output_type": "stream",
     "text": [
      "<class 'pandas.core.frame.DataFrame'>\n",
      "RangeIndex: 2008 entries, 0 to 2007\n",
      "Columns: 107 entries, inpatient_number to total_hemoglobin\n",
      "dtypes: float64(101), int64(6)\n",
      "memory usage: 1.6 MB\n",
      "<class 'pandas.core.frame.DataFrame'>\n",
      "RangeIndex: 2008 entries, 0 to 2007\n",
      "Data columns (total 7 columns):\n",
      " #   Column            Non-Null Count  Dtype  \n",
      "---  ------            --------------  -----  \n",
      " 0   inpatient_number  2008 non-null   int64  \n",
      " 1   gender            2008 non-null   object \n",
      " 2   weight            2008 non-null   float64\n",
      " 3   height            2008 non-null   float64\n",
      " 4   BMI               2008 non-null   float64\n",
      " 5   occupation        1981 non-null   object \n",
      " 6   ageCat            2008 non-null   object \n",
      "dtypes: float64(3), int64(1), object(3)\n",
      "memory usage: 109.9+ KB\n"
     ]
    }
   ],
   "source": [
    "df4.info()\n",
    "df5.info()"
   ]
  },
  {
   "cell_type": "code",
   "execution_count": 40,
   "id": "8f1a051b-d44f-47e0-91c8-c949715cf0e7",
   "metadata": {},
   "outputs": [
    {
     "ename": "NameError",
     "evalue": "name 'vio_ch' is not defined",
     "output_type": "error",
     "traceback": [
      "\u001b[1;31m---------------------------------------------------------------------------\u001b[0m",
      "\u001b[1;31mNameError\u001b[0m                                 Traceback (most recent call last)",
      "Cell \u001b[1;32mIn[40], line 1\u001b[0m\n\u001b[1;32m----> 1\u001b[0m vio_ch \u001b[38;5;241m=\u001b[39m vio_ch\u001b[38;5;241m.\u001b[39mmerge(df4[\u001b[38;5;124m'\u001b[39m\u001b[38;5;124minpatient_number\u001b[39m\u001b[38;5;124m'\u001b[39m,\u001b[38;5;124m'\u001b[39m\u001b[38;5;124mpulse\u001b[39m\u001b[38;5;124m'\u001b[39m],df5[[\u001b[38;5;124m'\u001b[39m\u001b[38;5;124minpatient_number\u001b[39m\u001b[38;5;124m'\u001b[39m,\u001b[38;5;124m'\u001b[39m\u001b[38;5;124mageCat\u001b[39m\u001b[38;5;124m'\u001b[39m]],on\u001b[38;5;241m=\u001b[39m\u001b[38;5;124m'\u001b[39m\u001b[38;5;124minpatient_number\u001b[39m\u001b[38;5;124m'\u001b[39m)\n",
      "\u001b[1;31mNameError\u001b[0m: name 'vio_ch' is not defined"
     ]
    }
   ],
   "source": [
    "vio_ch = vio_ch.merge(df4['inpatient_number','pulse'],df5[['inpatient_number','ageCat']],on='inpatient_number')"
   ]
  },
  {
   "cell_type": "code",
   "execution_count": null,
   "id": "31e0431f-26e7-4ede-bb25-c8fbf8fabde6",
   "metadata": {},
   "outputs": [],
   "source": [
    "sns.violinplot(data=[data1['Value'], data3['Value'], data5['Value']], ax=ax1])\n"
   ]
  },
  {
   "cell_type": "code",
   "execution_count": null,
   "id": "03e2a13e-f400-4b0d-81d5-ec38c14acf2f",
   "metadata": {},
   "outputs": [],
   "source": [
    "matplotlib.pyplot.violinplot(dataset, positions=None, vert=True, widths=0.5, showmeans=False, showextrema=True, showmedians=False, quantiles=None, points=100, bw_method=None, *, data=None)[source]\n"
   ]
  },
  {
   "cell_type": "markdown",
   "id": "c37c1641-8d52-44cd-bdbf-97ca697b02b7",
   "metadata": {},
   "source": [
    "### Question52\tCreate a Point Plot on Age against time to readmission.\n"
   ]
  },
  {
   "cell_type": "code",
   "execution_count": null,
   "id": "f166c5ce-50b5-4bc1-8889-a4c8f13f918d",
   "metadata": {},
   "outputs": [],
   "source": [
    "df6.info()\n",
    "\n",
    "# merging labs and demography datasets\n",
    "df7=df4.merge(df5,on='inpatient_number')\n",
    "\n",
    "# creating a new dataframe df7 with only he columns gender, ageCat, hemoglobin\n",
    "df7=df7.loc[:,['gender','ageCat','hemoglobin']]"
   ]
  }
 ],
 "metadata": {
  "kernelspec": {
   "display_name": "Python 3 (ipykernel)",
   "language": "python",
   "name": "python3"
  },
  "language_info": {
   "codemirror_mode": {
    "name": "ipython",
    "version": 3
   },
   "file_extension": ".py",
   "mimetype": "text/x-python",
   "name": "python",
   "nbconvert_exporter": "python",
   "pygments_lexer": "ipython3",
   "version": "3.11.7"
  }
 },
 "nbformat": 4,
 "nbformat_minor": 5
}
