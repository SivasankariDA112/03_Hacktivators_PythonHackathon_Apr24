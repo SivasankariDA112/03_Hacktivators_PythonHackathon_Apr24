{
 "cells": [
  {
   "cell_type": "code",
   "execution_count": 8,
   "id": "d5608b15",
   "metadata": {},
   "outputs": [],
   "source": [
    "import pandas as pd\n",
    "import numpy as np"
   ]
  },
  {
   "cell_type": "code",
   "execution_count": 9,
   "id": "6ba4c4d9",
   "metadata": {},
   "outputs": [],
   "source": [
    "#Hospitalization Discharge\n",
    "df0 = pd.read_excel('Cardiac_Outcomes.xlsx', sheet_name=0)\n",
    "#CardiacComplications\n",
    "df1 = pd.read_excel('Cardiac_Outcomes.xlsx', sheet_name=1)\n",
    "#Responsivenes\n",
    "df2 = pd.read_excel('Cardiac_Outcomes.xlsx', sheet_name=2)\n",
    "#PatientHistory\n",
    "df3 = pd.read_excel('Cardiac_Outcomes.xlsx', sheet_name=3)\n",
    "#Labs\n",
    "df4 = pd.read_excel('Cardiac_Outcomes.xlsx', sheet_name=4)\n",
    "#Demography\n",
    "df5 = pd.read_excel('Cardiac_Outcomes.xlsx', sheet_name=5)\n",
    "#Patient_Precriptions\n",
    "df6 = pd.read_excel('Cardiac_Outcomes.xlsx', sheet_name=6)"
   ]
  },
  {
   "attachments": {},
   "cell_type": "markdown",
   "id": "75903c7a",
   "metadata": {},
   "source": [
    "### 72.What % of the dataset is male vs female?"
   ]
  },
  {
   "cell_type": "code",
   "execution_count": 12,
   "id": "c0a191da",
   "metadata": {},
   "outputs": [
    {
     "data": {
      "text/plain": [
       "gender\n",
       "Female    57.918327\n",
       "Male      42.081673\n",
       "Name: proportion, dtype: float64"
      ]
     },
     "execution_count": 12,
     "metadata": {},
     "output_type": "execute_result"
    }
   ],
   "source": [
    "male_female_count = df5['gender'].value_counts(normalize=True)*100\n",
    "male_female_count"
   ]
  },
  {
   "cell_type": "markdown",
   "id": "4df988b7",
   "metadata": {},
   "source": [
    "### 65.Which Admission Ward has maximum number of visits scheduled?"
   ]
  },
  {
   "cell_type": "code",
   "execution_count": 11,
   "id": "f00e19c6",
   "metadata": {},
   "outputs": [
    {
     "name": "stdout",
     "output_type": "stream",
     "text": [
      "Maximum number of visits scheduled in : Cardiology ward\n"
     ]
    }
   ],
   "source": [
    "#grouping based on wards category and then adding the visit times. Then rearranging the index values\n",
    "vst_adm_ward=df0.groupby('admission_ward')['visit_times'].sum().reset_index()\n",
    "\n",
    "# sorting in desending order\n",
    "max_vst= vst_adm_ward.sort_values('visit_times', ascending=False)\n",
    "max_vst\n",
    "\n",
    "# Printing the top value\n",
    "print('Maximum number of visits scheduled in :',max_vst.loc[0,'admission_ward'],'ward')\n"
   ]
  },
  {
   "attachments": {},
   "cell_type": "markdown",
   "id": "df3a1d6b",
   "metadata": {},
   "source": [
    "### 71.Which year had the maximum admissions?"
   ]
  },
  {
   "cell_type": "code",
   "execution_count": 13,
   "id": "06be0cb4",
   "metadata": {},
   "outputs": [
    {
     "name": "stdout",
     "output_type": "stream",
     "text": [
      "Maximum admissions happened in the year: 2016\n"
     ]
    }
   ],
   "source": [
    "df0['Year']=df0['Admission_date'].dt.year\n",
    "adm_year=df0.Year.value_counts(dropna=False).reset_index()\n",
    "adm_year\n",
    "\n",
    "\n",
    "# sorting in desending order\n",
    "max_adm_year= adm_year.sort_values('count', ascending=False)\n",
    "max_adm_year\n",
    "\n",
    "# Printing the top value\n",
    "print('Maximum admissions happened in the year:',max_adm_year.loc[0,'Year'])"
   ]
  }
 ],
 "metadata": {
  "kernelspec": {
   "display_name": "Python 3 (ipykernel)",
   "language": "python",
   "name": "python3"
  },
  "language_info": {
   "codemirror_mode": {
    "name": "ipython",
    "version": 3
   },
   "file_extension": ".py",
   "mimetype": "text/x-python",
   "name": "python",
   "nbconvert_exporter": "python",
   "pygments_lexer": "ipython3",
   "version": "3.11.7"
  }
 },
 "nbformat": 4,
 "nbformat_minor": 5
}
