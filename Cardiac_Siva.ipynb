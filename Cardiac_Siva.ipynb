{
 "cells": [
  {
   "cell_type": "code",
   "execution_count": 4,
   "id": "ab152376-7f4a-46f5-8898-e1143151ca66",
   "metadata": {},
   "outputs": [],
   "source": [
    "import pandas as pd"
   ]
  },
  {
   "cell_type": "code",
   "execution_count": 5,
   "id": "a029efd0-4748-4347-a837-a4cf86c4c9e3",
   "metadata": {},
   "outputs": [],
   "source": [
    "#Hospitalization_Discharge\n",
    "df0 = pd.read_excel('Cardiac_Outcomes.xlsx',sheet_name=0)\n",
    "#CardiacComplications\n",
    "df1 = pd.read_excel('Cardiac_Outcomes.xlsx',sheet_name=1)\n",
    "#Responsivenes\n",
    "df2 = pd.read_excel('Cardiac_Outcomes.xlsx',sheet_name=2)\n",
    "#PatientHistory\n",
    "df3 = pd.read_excel('Cardiac_Outcomes.xlsx',sheet_name=3)\n",
    "#Labs\n",
    "df4 = pd.read_excel('Cardiac_Outcomes.xlsx',sheet_name=4)\n",
    "#Demography\n",
    "df5 = pd.read_excel('Cardiac_Outcomes.xlsx',sheet_name=5)\n",
    "#Patient_Precriptions\n",
    "df6 = pd.read_excel('Cardiac_Outcomes.xlsx',sheet_name=6)"
   ]
  },
  {
   "cell_type": "markdown",
   "id": "b8ba1cdc-04d8-4614-a883-0e0bfcecb76b",
   "metadata": {},
   "source": [
    "### Question#46 Convert occupation into numeric by Label encoding\n"
   ]
  },
  {
   "cell_type": "code",
   "execution_count": 35,
   "id": "0c7e9200-2dec-432d-8dcb-5da6646abcbf",
   "metadata": {},
   "outputs": [
    {
     "data": {
      "text/plain": [
       "occupation\n",
       "2    1670\n",
       "3     198\n",
       "1      89\n",
       "5      27\n",
       "4      17\n",
       "0       7\n",
       "Name: count, dtype: int64"
      ]
     },
     "execution_count": 35,
     "metadata": {},
     "output_type": "execute_result"
    }
   ],
   "source": [
    "#importing LabelEncoder class from scikit-learn\n",
    "from sklearn.preprocessing import LabelEncoder\n",
    "\n",
    "#Create an instance of LabelEncoder() and store it in labelencoder variable/object le\n",
    "le = LabelEncoder()\n",
    "#Apply fit for the occupation column\n",
    "df5.occupation=le.fit_transform(df5.occupation)\n",
    "\n",
    "\n",
    "distinct_occu = df5.occupation.value_counts(dropna=False)\n",
    "distinct_occu"
   ]
  },
  {
   "cell_type": "markdown",
   "id": "57088c97-a5c3-4ae7-a69b-b5bcaa28e47c",
   "metadata": {},
   "source": [
    "### Question#45 Create a dataframe with date and time as columns, where the values are the admission time"
   ]
  },
  {
   "cell_type": "code",
   "execution_count": 36,
   "id": "a54e1e67-9cd8-4d8a-87e9-2eb1dff13f5a",
   "metadata": {},
   "outputs": [
    {
     "data": {
      "text/html": [
       "<div>\n",
       "<style scoped>\n",
       "    .dataframe tbody tr th:only-of-type {\n",
       "        vertical-align: middle;\n",
       "    }\n",
       "\n",
       "    .dataframe tbody tr th {\n",
       "        vertical-align: top;\n",
       "    }\n",
       "\n",
       "    .dataframe thead th {\n",
       "        text-align: right;\n",
       "    }\n",
       "</style>\n",
       "<table border=\"1\" class=\"dataframe\">\n",
       "  <thead>\n",
       "    <tr style=\"text-align: right;\">\n",
       "      <th></th>\n",
       "      <th>Adm_date_tm</th>\n",
       "      <th>date</th>\n",
       "      <th>time</th>\n",
       "    </tr>\n",
       "  </thead>\n",
       "  <tbody>\n",
       "    <tr>\n",
       "      <th>0</th>\n",
       "      <td>2017-01-24</td>\n",
       "      <td>2017-01-24</td>\n",
       "      <td>00:00:00</td>\n",
       "    </tr>\n",
       "    <tr>\n",
       "      <th>1</th>\n",
       "      <td>2017-05-05</td>\n",
       "      <td>2017-05-05</td>\n",
       "      <td>00:00:00</td>\n",
       "    </tr>\n",
       "    <tr>\n",
       "      <th>2</th>\n",
       "      <td>2016-11-18</td>\n",
       "      <td>2016-11-18</td>\n",
       "      <td>00:00:00</td>\n",
       "    </tr>\n",
       "    <tr>\n",
       "      <th>3</th>\n",
       "      <td>2017-10-02</td>\n",
       "      <td>2017-10-02</td>\n",
       "      <td>00:00:00</td>\n",
       "    </tr>\n",
       "    <tr>\n",
       "      <th>4</th>\n",
       "      <td>2019-11-17</td>\n",
       "      <td>2019-11-17</td>\n",
       "      <td>00:00:00</td>\n",
       "    </tr>\n",
       "  </tbody>\n",
       "</table>\n",
       "</div>"
      ],
      "text/plain": [
       "  Adm_date_tm        date      time\n",
       "0  2017-01-24  2017-01-24  00:00:00\n",
       "1  2017-05-05  2017-05-05  00:00:00\n",
       "2  2016-11-18  2016-11-18  00:00:00\n",
       "3  2017-10-02  2017-10-02  00:00:00\n",
       "4  2019-11-17  2019-11-17  00:00:00"
      ]
     },
     "execution_count": 36,
     "metadata": {},
     "output_type": "execute_result"
    }
   ],
   "source": [
    "#creating a dataframe using Admission_date variable from Hospitalization_Discharge\n",
    "df_date = pd.DataFrame({'Adm_date_tm':df0['Admission_date']})\n",
    "df_date['date'] = df_date['Adm_date_tm'].dt.date\n",
    "df_date['time'] = df_date['Adm_date_tm'].dt.time\n",
    "\n",
    "df_date.head()"
   ]
  },
  {
   "cell_type": "markdown",
   "id": "7495c24e-7d43-4631-b73b-d991b912c78f",
   "metadata": {},
   "source": [
    "### Question#43 Give Distribution chart of max Killip_grade"
   ]
  },
  {
   "cell_type": "code",
   "execution_count": 37,
   "id": "b46406a8-ba92-4344-a606-c20e0401b8a9",
   "metadata": {},
   "outputs": [
    {
     "data": {
      "image/png": "[encoded data removed]",
      "text/plain": [
       "<Figure size 640x480 with 1 Axes>"
      ]
     },
     "metadata": {},
     "output_type": "display_data"
    }
   ],
   "source": [
    "import seaborn as sns\n",
    "df1.Killip_grade.hist();"
   ]
  },
  {
   "cell_type": "code",
   "execution_count": null,
   "id": "db381ed0-aa08-4792-9a85-e8cc5df54932",
   "metadata": {},
   "outputs": [],
   "source": []
  }
 ],
 "metadata": {
  "kernelspec": {
   "display_name": "Python 3 (ipykernel)",
   "language": "python",
   "name": "python3"
  },
  "language_info": {
   "codemirror_mode": {
    "name": "ipython",
    "version": 3
   },
   "file_extension": ".py",
   "mimetype": "text/x-python",
   "name": "python",
   "nbconvert_exporter": "python",
   "pygments_lexer": "ipython3",
   "version": "3.11.7"
  }
 },
 "nbformat": 4,
 "nbformat_minor": 5
}
