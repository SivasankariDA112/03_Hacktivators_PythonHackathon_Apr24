{
 "cells": [
  {
   "cell_type": "code",
   "execution_count": 4,
   "id": "ab152376-7f4a-46f5-8898-e1143151ca66",
   "metadata": {},
   "outputs": [],
   "source": [
    "import pandas as pd"
   ]
  },
  {
   "cell_type": "code",
   "execution_count": 5,
   "id": "a029efd0-4748-4347-a837-a4cf86c4c9e3",
   "metadata": {},
   "outputs": [],
   "source": [
    "#Hospitalization_Discharge\n",
    "df0 = pd.read_excel('Cardiac_Outcomes.xlsx',sheet_name=0)\n",
    "#CardiacComplications\n",
    "df1 = pd.read_excel('Cardiac_Outcomes.xlsx',sheet_name=1)\n",
    "#Responsivenes\n",
    "df2 = pd.read_excel('Cardiac_Outcomes.xlsx',sheet_name=2)\n",
    "#PatientHistory\n",
    "df3 = pd.read_excel('Cardiac_Outcomes.xlsx',sheet_name=3)\n",
    "#Labs\n",
    "df4 = pd.read_excel('Cardiac_Outcomes.xlsx',sheet_name=4)\n",
    "#Demography\n",
    "df5 = pd.read_excel('Cardiac_Outcomes.xlsx',sheet_name=5)\n",
    "#Patient_Precriptions\n",
    "df6 = pd.read_excel('Cardiac_Outcomes.xlsx',sheet_name=6)"
   ]
  },
  {
   "cell_type": "markdown",
   "id": "b8ba1cdc-04d8-4614-a883-0e0bfcecb76b",
   "metadata": {},
   "source": [
    "### Question#46 Convert occupation into numeric by Label encoding\n"
   ]
  },
  {
   "cell_type": "code",
   "execution_count": 35,
   "id": "0c7e9200-2dec-432d-8dcb-5da6646abcbf",
   "metadata": {},
   "outputs": [
    {
     "data": {
      "text/plain": [
       "occupation\n",
       "2    1670\n",
       "3     198\n",
       "1      89\n",
       "5      27\n",
       "4      17\n",
       "0       7\n",
       "Name: count, dtype: int64"
      ]
     },
     "execution_count": 35,
     "metadata": {},
     "output_type": "execute_result"
    }
   ],
   "source": [
    "#importing LabelEncoder class from scikit-learn\n",
    "from sklearn.preprocessing import LabelEncoder\n",
    "\n",
    "#Create an instance of LabelEncoder() and store it in labelencoder variable/object le\n",
    "le = LabelEncoder()\n",
    "#Apply fit for the occupation column\n",
    "df5.occupation=le.fit_transform(df5.occupation)\n",
    "\n",
    "\n",
    "distinct_occu = df5.occupation.value_counts(dropna=False)\n",
    "distinct_occu"
   ]
  },
  {
   "cell_type": "code",
   "execution_count": null,
   "id": "0eeddaf2-82e7-405b-b551-49ce1560b328",
   "metadata": {},
   "outputs": [],
   "source": []
  }
 ],
 "metadata": {
  "kernelspec": {
   "display_name": "Python 3 (ipykernel)",
   "language": "python",
   "name": "python3"
  },
  "language_info": {
   "codemirror_mode": {
    "name": "ipython",
    "version": 3
   },
   "file_extension": ".py",
   "mimetype": "text/x-python",
   "name": "python",
   "nbconvert_exporter": "python",
   "pygments_lexer": "ipython3",
   "version": "3.11.7"
  }
 },
 "nbformat": 4,
 "nbformat_minor": 5
}
